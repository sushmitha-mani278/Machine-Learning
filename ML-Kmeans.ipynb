{
 "cells": [
  {
   "cell_type": "code",
   "execution_count": 1,
   "metadata": {},
   "outputs": [],
   "source": [
    "from sklearn.cluster import KMeans\n",
    "from datetime import datetime\n",
    "import pandas as pd\n",
    "import numpy as np\n",
    "import matplotlib.pyplot as plt\n",
    "get_ipython().run_line_magic('matplotlib', 'inline')\n"
   ]
  },
  {
   "cell_type": "code",
   "execution_count": 2,
   "metadata": {},
   "outputs": [],
   "source": [
    "\n",
    "######################################################################\n",
    "# This section contains functions for loading CSV (comma separated values)\n",
    "# files and convert them to a dataset of instances.\n",
    "# Each instance is a tuple of attributes. The entire dataset is a list\n",
    "# of tuples.\n",
    "######################################################################\n",
    "\n",
    "# Loads a CSV files into a list of tuples.\n",
    "# Ignores the first row of the file (header).\n",
    "# Numeric attributes are converted to floats, nominal attributes\n",
    "# are represented with strings.\n",
    "# Parameters:\n",
    "#   fileName: name of the CSV file to be read\n",
    "# Returns: a list of tuples\n",
    "def loadCSV(fileName):\n",
    "    fileHandler = open(fileName, \"rt\")\n",
    "    lines = fileHandler.readlines()\n",
    "    fileHandler.close()\n",
    "    del lines[0] # remove the header\n",
    "    dataset = []\n",
    "    for line in lines:\n",
    "        instance = lineToTuple(line)\n",
    "        dataset.append(instance)\n",
    "    return dataset"
   ]
  },
  {
   "cell_type": "code",
   "execution_count": 3,
   "metadata": {},
   "outputs": [],
   "source": [
    "# Converts a comma separated string into a tuple\n",
    "# Parameters\n",
    "#   line: a string\n",
    "# Returns: a tuple\n",
    "def lineToTuple(line):\n",
    "    # remove leading/trailing witespace and newlines\n",
    "    cleanLine = line.strip()\n",
    "    # get rid of quotes\n",
    "    cleanLine = cleanLine.replace('\"', '')\n",
    "    # separate the fields\n",
    "    lineList = cleanLine.split(\",\")\n",
    "    # convert strings into numbers\n",
    "    stringsToNumbers(lineList)\n",
    "    lineTuple = tuple(lineList)\n",
    "    return lineTuple"
   ]
  },
  {
   "cell_type": "code",
   "execution_count": 4,
   "metadata": {},
   "outputs": [],
   "source": [
    "# Destructively converts all the string elements representing numbers\n",
    "# to floating point numbers.\n",
    "# Parameters:\n",
    "#   myList: a list of strings\n",
    "# Returns None\n",
    "def stringsToNumbers(myList):\n",
    "    for i in range(len(myList)):\n",
    "        if (isValidNumberString(myList[i])):\n",
    "            myList[i] = float(myList[i])\n",
    "\n",
    "# Checks if a given string can be safely converted into a positive float.\n",
    "# Parameters:\n",
    "#   s: the string to be checked\n",
    "# Returns: True if the string represents a positive float, False otherwise\n",
    "def isValidNumberString(s):\n",
    "    if len(s) == 0:\n",
    "        return False\n",
    "    if  len(s) > 1 and s[0] == \"-\":\n",
    "        s = s[1:]\n",
    "    for c in s:\n",
    "        if c not in \"0123456789.\":\n",
    "            return False\n",
    "    return True"
   ]
  },
  {
   "cell_type": "code",
   "execution_count": 5,
   "metadata": {},
   "outputs": [],
   "source": [
    "\n",
    "######################################################################\n",
    "# This section contains functions for clustering a dataset\n",
    "# using the k-means algorithm.\n",
    "######################################################################\n",
    "\n",
    "def distance(instance1, instance2):\n",
    "    if instance1 == None or instance2 == None:\n",
    "        return float(\"inf\")\n",
    "    sumOfSquares = 0\n",
    "    for i in range(0, len(instance1)-1):\n",
    "        sumOfSquares += (instance1[i+1] - instance2[i])**2\n",
    "    return sumOfSquares\n"
   ]
  },
  {
   "cell_type": "code",
   "execution_count": 6,
   "metadata": {},
   "outputs": [],
   "source": [
    "def meanInstance(name, instanceList):\n",
    "    numInstances = len(instanceList)\n",
    "    if (numInstances == 0):\n",
    "        return\n",
    "    numAttributes = len(instanceList[0])\n",
    "    means = [name] + [0] * (numAttributes)\n",
    "    for instance in instanceList:\n",
    "        for i in range(0, numAttributes):\n",
    "            means[i+1] += instance[i]\n",
    "   \n",
    "    for i in range(0, numAttributes):\n",
    "        means[i+1] /= float(numInstances)\n",
    "    return tuple(means)"
   ]
  },
  {
   "cell_type": "code",
   "execution_count": 7,
   "metadata": {},
   "outputs": [],
   "source": [
    "\n",
    "def assign(instance, centroids, dist):\n",
    "    minDistance = dist(centroids[0],instance)\n",
    "    minDistanceIndex = 0\n",
    "    for i in range(1, len(centroids)):\n",
    "        d = dist(centroids[i], instance )\n",
    "        if (d < minDistance):\n",
    "            minDistance = d\n",
    "            minDistanceIndex = i\n",
    "    return minDistanceIndex\n"
   ]
  },
  {
   "cell_type": "code",
   "execution_count": 8,
   "metadata": {},
   "outputs": [],
   "source": [
    "def createEmptyListOfLists(numSubLists):\n",
    "    myList = []\n",
    "    for i in range(numSubLists):\n",
    "        myList.append([])\n",
    "    return myList"
   ]
  },
  {
   "cell_type": "code",
   "execution_count": 9,
   "metadata": {},
   "outputs": [],
   "source": [
    "def assignAll(instances, centroids, labels, dist):\n",
    "    clusters = createEmptyListOfLists(len(centroids))\n",
    "    classclusters = createEmptyListOfLists(len(centroids))\n",
    "    i=0\n",
    "    for instance in instances:\n",
    "        clusterIndex = assign(instance, centroids, dist)\n",
    "        clusters[clusterIndex].append(instance)\n",
    "        classclusters[clusterIndex].append(labels[i])\n",
    "        i=i+1\n",
    "    return clusters, classclusters\n"
   ]
  },
  {
   "cell_type": "code",
   "execution_count": 10,
   "metadata": {},
   "outputs": [],
   "source": [
    "def computeCentroids(clusters):\n",
    "    centroids = []\n",
    "    for i in range(len(clusters)):\n",
    "        name = \"centroid\" + str(i)\n",
    "        centroid = meanInstance(name, clusters[i])\n",
    "        centroids.append(centroid)\n",
    "    return centroids"
   ]
  },
  {
   "cell_type": "code",
   "execution_count": 11,
   "metadata": {},
   "outputs": [],
   "source": [
    "def kmeans(instances, k, dist,labels, animation=False, initCentroids=None):\n",
    "    result = {}\n",
    "    if (initCentroids == None or len(initCentroids) < k):\n",
    "        # randomly select k initial centroids\n",
    "        random.seed(time.time())\n",
    "        centroids = random.sample(instances, k)\n",
    "    else:\n",
    "        centroids = initCentroids\n",
    "    prevCentroids = []\n",
    "    if animation:\n",
    "        delay = 1.0 # seconds\n",
    "#         canvas = prepareWindow(instances)\n",
    "        clusters = createEmptyListOfLists(k)\n",
    "        clusters[0] = instances\n",
    "        #paintClusters2D(canvas, clusters, centroids, \"Initial centroids\")\n",
    "#         time.sleep(delay)\n",
    "    iteration = 0\n",
    "    while (centroids != prevCentroids):\n",
    "        iteration += 1\n",
    "        clusters, votelabels = assignAll(instances, centroids, labels, dist)\n",
    "        #if animation:\n",
    "            #paintClusters2D(canvas, clusters, centroids, \"Assign %d\" % iteration)\n",
    "            #time.sleep(delay)\n",
    "        prevCentroids = centroids\n",
    "        centroids = computeCentroids(clusters)\n",
    "        withinss = computeWithinss(clusters, centroids, dist)\n",
    "#         if animation:\n",
    "#             paintClusters2D(canvas, clusters, centroids,\n",
    "#                             \"Update %d, withinss %.1f\" % (iteration, withinss))\n",
    "#             time.sleep(delay)\n",
    "    print('Number of iterations are ', iteration)\n",
    "    result[\"clusters\"] = clusters\n",
    "    result[\"centroids\"] = centroids\n",
    "    result[\"withinss\"] = withinss\n",
    "    result[\"labels\"] = votelabels\n",
    "    return result\n"
   ]
  },
  {
   "cell_type": "code",
   "execution_count": 12,
   "metadata": {},
   "outputs": [],
   "source": [
    "def computeWithinss(clusters, centroids, dist):\n",
    "    result = 0\n",
    "    for i in range(len(centroids)):\n",
    "        centroid = centroids[i]\n",
    "        cluster = clusters[i]\n",
    "        for instance in cluster:\n",
    "            result += dist(centroid, instance)\n",
    "    return result\n"
   ]
  },
  {
   "cell_type": "code",
   "execution_count": 13,
   "metadata": {},
   "outputs": [],
   "source": [
    "\n",
    "# Repeats k-means clustering n times, and returns the clustering\n",
    "# with the smallest withinss\n",
    "def repeatedKMeans(instances, k, n):\n",
    "    bestClustering = {}\n",
    "    bestClustering[\"withinss\"] = float(\"inf\")\n",
    "    for i in range(1, n+1):\n",
    "        print (\"k-means trial %d,\" % i )\n",
    "        trialClustering = kmeans(instances, k)\n",
    "        print (\"withinss: %.1f\" % trialClustering[\"withinss\"])\n",
    "        if trialClustering[\"withinss\"] < bestClustering[\"withinss\"]:\n",
    "            bestClustering = trialClustering\n",
    "            minWithinssTrial = i\n",
    "    print(\"Trial with minimum withinss:\", minWithinssTrial)\n",
    "    return bestClustering"
   ]
  },
  {
   "cell_type": "code",
   "execution_count": 14,
   "metadata": {},
   "outputs": [],
   "source": [
    "\n",
    "######################################################################\n",
    "# This section contains functions for visualizing datasets and\n",
    "# clustered datasets.\n",
    "######################################################################\n",
    "\n",
    "def printTable(instances):\n",
    "    for instance in instances:\n",
    "        if instance != None:\n",
    "            line = instance[0] + \"\\t\"\n",
    "            for i in range(1, len(instance)):\n",
    "                line += \"%.2f \" % instance[i]\n",
    "            print(line)\n"
   ]
  },
  {
   "cell_type": "code",
   "execution_count": 15,
   "metadata": {},
   "outputs": [],
   "source": [
    "def extractAttribute(instances, index):\n",
    "    result = []\n",
    "    for instance in instances:\n",
    "        result.append(instance[index])\n",
    "    return result"
   ]
  },
  {
   "cell_type": "code",
   "execution_count": 16,
   "metadata": {},
   "outputs": [],
   "source": [
    "\n",
    "def paintCircle(canvas, xc, yc, r, color):\n",
    "    canvas.create_oval(xc-r, yc-r, xc+r, yc+r, outline=color)\n"
   ]
  },
  {
   "cell_type": "code",
   "execution_count": 17,
   "metadata": {},
   "outputs": [],
   "source": [
    "\n",
    "def paintSquare(canvas, xc, yc, r, color):\n",
    "    canvas.create_rectangle(xc-r, yc-r, xc+r, yc+r, fill=color)\n"
   ]
  },
  {
   "cell_type": "code",
   "execution_count": 18,
   "metadata": {},
   "outputs": [],
   "source": [
    "\n",
    "def drawPoints(canvas, instances, color, shape):\n",
    "    random.seed(0)\n",
    "    width = canvas.winfo_reqwidth()\n",
    "    height = canvas.winfo_reqheight()\n",
    "    margin = canvas.data[\"margin\"]\n",
    "    minX = canvas.data[\"minX\"]\n",
    "    minY = canvas.data[\"minY\"]\n",
    "    maxX = canvas.data[\"maxX\"]\n",
    "    maxY = canvas.data[\"maxY\"]\n",
    "    scaleX = float(width - 2*margin) / (maxX - minX)\n",
    "    scaleY = float(height - 2*margin) / (maxY - minY)\n",
    "    for instance in instances:\n",
    "        x = 5*(random.random()-0.5)+margin+(instance[1]-minX)*scaleX\n",
    "        y = 5*(random.random()-0.5)+height-margin-(instance[2]-minY)*scaleY\n",
    "        if (shape == \"square\"):\n",
    "            paintSquare(canvas, x, y, 5, color)\n",
    "        else:\n",
    "            paintCircle(canvas, x, y, 5, color)\n",
    "    canvas.update()"
   ]
  },
  {
   "cell_type": "code",
   "execution_count": 19,
   "metadata": {},
   "outputs": [],
   "source": [
    "def connectPoints(canvas, instances1, instances2, color):\n",
    "    width = canvas.winfo_reqwidth()\n",
    "    height = canvas.winfo_reqheight()\n",
    "    margin = canvas.data[\"margin\"]\n",
    "    minX = canvas.data[\"minX\"]\n",
    "    minY = canvas.data[\"minY\"]\n",
    "    maxX = canvas.data[\"maxX\"]\n",
    "    maxY = canvas.data[\"maxY\"]\n",
    "    scaleX = float(width - 2*margin) / (maxX - minX)\n",
    "    scaleY = float(height - 2*margin) / (maxY - minY)\n",
    "    for p1 in instances1:\n",
    "        for p2 in instances2:\n",
    "            x1 = margin + (p1[1]-minX)*scaleX\n",
    "            y1 = height - margin - (p1[2]-minY)*scaleY\n",
    "            x2 = margin + (p2[1]-minX)*scaleX\n",
    "            y2 = height - margin - (p2[2]-minY)*scaleY\n",
    "            canvas.create_line(x1, y1, x2, y2, fill=color)\n",
    "    canvas.update()"
   ]
  },
  {
   "cell_type": "code",
   "execution_count": 20,
   "metadata": {},
   "outputs": [],
   "source": [
    "def mergeClusters(clusters):\n",
    "    result = []\n",
    "    for cluster in clusters:\n",
    "        result.extend(cluster)\n",
    "    return result"
   ]
  },
  {
   "cell_type": "code",
   "execution_count": 21,
   "metadata": {},
   "outputs": [],
   "source": [
    "\n",
    "def prepareWindow(instances):\n",
    "    width = 500\n",
    "    height = 500\n",
    "    margin = 50\n",
    "    root = Tk()\n",
    "    canvas = Canvas(root, width=width, height=height, background=\"white\")\n",
    "    canvas.pack()\n",
    "    canvas.data = {}\n",
    "    canvas.data[\"margin\"] = margin\n",
    "    setBounds2D(canvas, instances)\n",
    "    paintAxes(canvas)\n",
    "    canvas.update()\n",
    "    return canvas"
   ]
  },
  {
   "cell_type": "code",
   "execution_count": 22,
   "metadata": {},
   "outputs": [],
   "source": [
    "def setBounds2D(canvas, instances):\n",
    "    attributeX = extractAttribute(instances, 1)\n",
    "    attributeY = extractAttribute(instances, 2)\n",
    "    canvas.data[\"minX\"] = min(attributeX)\n",
    "    canvas.data[\"minY\"] = min(attributeY)\n",
    "    canvas.data[\"maxX\"] = max(attributeX)\n",
    "    canvas.data[\"maxY\"] = max(attributeY)"
   ]
  },
  {
   "cell_type": "code",
   "execution_count": 23,
   "metadata": {},
   "outputs": [],
   "source": [
    "def paintAxes(canvas):\n",
    "    width = canvas.winfo_reqwidth()\n",
    "    height = canvas.winfo_reqheight()\n",
    "    margin = canvas.data[\"margin\"]\n",
    "    minX = canvas.data[\"minX\"]\n",
    "    minY = canvas.data[\"minY\"]\n",
    "    maxX = canvas.data[\"maxX\"]\n",
    "    maxY = canvas.data[\"maxY\"]\n",
    "    canvas.create_line(margin/2, height-margin/2, width-5, height-margin/2,\n",
    "                       width=2, arrow=LAST)\n",
    "    canvas.create_text(margin, height-margin/4,\n",
    "                       text=str(minX), font=\"Sans 11\")\n",
    "    canvas.create_text(width-margin, height-margin/4,\n",
    "                       text=str(maxX), font=\"Sans 11\")\n",
    "    canvas.create_line(margin/2, height-margin/2, margin/2, 5,\n",
    "                       width=2, arrow=LAST)\n",
    "    canvas.create_text(margin/4, height-margin,\n",
    "                       text=str(minY), font=\"Sans 11\", anchor=W)\n",
    "    canvas.create_text(margin/4, margin,\n",
    "                       text=str(maxY), font=\"Sans 11\", anchor=W)\n",
    "    canvas.update()\n",
    "\n"
   ]
  },
  {
   "cell_type": "code",
   "execution_count": 24,
   "metadata": {},
   "outputs": [],
   "source": [
    "def showDataset2D(instances):\n",
    "    canvas = prepareWindow(instances)\n",
    "    paintDataset2D(canvas, instances)\n",
    "\n",
    "def paintDataset2D(canvas, instances):\n",
    "    canvas.delete(ALL)\n",
    "    paintAxes(canvas)\n",
    "    drawPoints(canvas, instances, \"blue\", \"circle\")\n",
    "    canvas.update()\n"
   ]
  },
  {
   "cell_type": "code",
   "execution_count": 25,
   "metadata": {},
   "outputs": [],
   "source": [
    "\n",
    "def showClusters2D(clusteringDictionary):\n",
    "    clusters = clusteringDictionary[\"clusters\"]\n",
    "    centroids = clusteringDictionary[\"centroids\"]\n",
    "    withinss = clusteringDictionary[\"withinss\"]\n",
    "    canvas = prepareWindow(mergeClusters(clusters))\n",
    "    paintClusters2D(canvas, clusters, centroids,\n",
    "                    \"Withinss: %.1f\" % withinss)\n"
   ]
  },
  {
   "cell_type": "code",
   "execution_count": 26,
   "metadata": {},
   "outputs": [],
   "source": [
    "\n",
    "def paintClusters2D(canvas, clusters, centroids, title=\"\"):\n",
    "    canvas.delete(ALL)\n",
    "    paintAxes(canvas)\n",
    "    colors = [\"blue\", \"red\", \"green\", \"brown\", \"purple\", \"orange\"]\n",
    "    for clusterIndex in range(len(clusters)):\n",
    "        color = colors[clusterIndex%len(colors)]\n",
    "        instances = clusters[clusterIndex]\n",
    "        centroid = centroids[clusterIndex]\n",
    "        drawPoints(canvas, instances, color, \"circle\")\n",
    "        if (centroid != None):\n",
    "            drawPoints(canvas, [centroid], color, \"square\")\n",
    "        connectPoints(canvas, [centroid], instances, color)\n",
    "    width = canvas.winfo_reqwidth()\n",
    "    canvas.create_text(width/2, 20, text=title, font=\"Sans 14\")\n",
    "    canvas.update()\n"
   ]
  },
  {
   "cell_type": "code",
   "execution_count": 27,
   "metadata": {},
   "outputs": [],
   "source": [
    "\n",
    "import numpy as np\n",
    "from sklearn.metrics.pairwise import cosine_similarity\n",
    "from sklearn.metrics import jaccard_score\n",
    "\n"
   ]
  },
  {
   "cell_type": "code",
   "execution_count": 28,
   "metadata": {},
   "outputs": [],
   "source": [
    "def accuracy(clustering):\n",
    "    correct_pred = 0\n",
    "    for clust in clustering['labels']:\n",
    "        for label in clust:\n",
    "            if label == mode(clust):\n",
    "                correct_pred+=1\n",
    "    return correct_pred/150\n"
   ]
  },
  {
   "cell_type": "code",
   "execution_count": 29,
   "metadata": {},
   "outputs": [],
   "source": [
    "\n",
    "def sse(clustering, centroids):\n",
    "    i=0\n",
    "    SSE=0\n",
    "    for clust in clustering:\n",
    "        for data in clust:\n",
    "            SSE=SSE+distance(centroids[i], data)\n",
    "        i=i+1\n",
    "    return SSE\n",
    "\n"
   ]
  },
  {
   "cell_type": "code",
   "execution_count": 30,
   "metadata": {},
   "outputs": [],
   "source": [
    "\n",
    "def cosine(centroid, data):\n",
    "    if len(centroid) == 5:\n",
    "        centroid = centroid[1:]\n",
    "    \n",
    "    #print(centroid)\n",
    "    x1 = centroid\n",
    "    x1 = np.array(x1)\n",
    "    x1 = x1.reshape(1,-1)\n",
    "    y1 = np.array(data)\n",
    "    y1 = y1.reshape(1,-1)\n",
    "    #print(x1,y1)\n",
    "    ans = cosine_similarity(x1,y1)\n",
    "    return 1-ans[0][0]\n"
   ]
  },
  {
   "cell_type": "code",
   "execution_count": 31,
   "metadata": {},
   "outputs": [],
   "source": [
    "\n",
    "def jaccard(centroid, data):\n",
    "    jacSumnum=[]\n",
    "    jacSumden = []\n",
    "    if len(centroid) == 5:\n",
    "        centroid = centroid[1:]\n",
    "    for i in range(len(data)):\n",
    "        jacSumnum.append(min(centroid[i],data[i]))\n",
    "        jacSumden.append(max(centroid[i],data[i]))\n",
    "    return 1-(sum(jacSumnum)/sum(jacSumden))\n",
    "\n"
   ]
  },
  {
   "cell_type": "code",
   "execution_count": 32,
   "metadata": {},
   "outputs": [],
   "source": [
    "def kmeans_sse(instances, k, dist,labels, animation=False, initCentroids=None):\n",
    "    result = {}\n",
    "    if (initCentroids == None or len(initCentroids) < k):\n",
    "        # randomly select k initial centroids\n",
    "        random.seed(time.time())\n",
    "        centroids = random.sample(instances, k)\n",
    "    else:\n",
    "        centroids = initCentroids\n",
    "    prevCentroids = [] \n",
    "    new_sse= 99999 \n",
    "    prev_sse=1000000 \n",
    "    if animation:\n",
    "        delay = 1.0 # seconds\n",
    "#         canvas = prepareWindow(instances)\n",
    "        clusters = createEmptyListOfLists(k)\n",
    "        clusters[0] = instances\n",
    "        #paintClusters2D(canvas, clusters, centroids, \"Initial centroids\")\n",
    "#         time.sleep(delay)\n",
    "    iteration = 0\n",
    "    while (new_sse < prev_sse):\n",
    "        iteration += 1\n",
    "        clusters, votelabels = assignAll(instances, centroids, labels, dist)\n",
    "        #if animation:\n",
    "            #paintClusters2D(canvas, clusters, centroids, \"Assign %d\" % iteration)\n",
    "            #time.sleep(delay)\n",
    "        prev_sse = new_sse\n",
    "        centroids = computeCentroids(clusters)\n",
    "        new_sse= sse(clusters, centroids)\n",
    "        withinss = computeWithinss(clusters, centroids, dist)\n",
    "#         if animation:\n",
    "#             paintClusters2D(canvas, clusters, centroids,\n",
    "#                             \"Update %d, withinss %.1f\" % (iteration, withinss))\n",
    "#             time.sleep(delay)\n",
    "    print('Number of iterations are ', iteration)\n",
    "    print('prev sse', prev_sse)\n",
    "    print('new sse', new_sse)\n",
    "    result[\"clusters\"] = clusters\n",
    "    result[\"centroids\"] = centroids\n",
    "    result[\"withinss\"] = withinss\n",
    "    result[\"labels\"] = votelabels\n",
    "    return result\n"
   ]
  },
  {
   "cell_type": "code",
   "execution_count": 33,
   "metadata": {},
   "outputs": [],
   "source": [
    "def kmeans_100(instances, k, dist,labels, animation=False, initCentroids=None):\n",
    "    result = {}\n",
    "    if (initCentroids == None or len(initCentroids) < k):\n",
    "        # randomly select k initial centroids\n",
    "        random.seed(time.time())\n",
    "        centroids = random.sample(instances, k)\n",
    "    else:\n",
    "        centroids = initCentroids\n",
    "    prevCentroids = []\n",
    "    if animation:\n",
    "        delay = 1.0 # seconds\n",
    "#         canvas = prepareWindow(instances)\n",
    "        clusters = createEmptyListOfLists(k)\n",
    "        clusters[0] = instances\n",
    "        #paintClusters2D(canvas, clusters, centroids, \"Initial centroids\")\n",
    "#         time.sleep(delay)\n",
    "    iteration = 0\n",
    "    while (iteration<100):\n",
    "        iteration +=1\n",
    "        clusters, votelabels = assignAll(instances, centroids, labels, dist)\n",
    "        #if animation:\n",
    "            #paintClusters2D(canvas, clusters, centroids, \"Assign %d\" % iteration)\n",
    "            #time.sleep(delay)\n",
    "        prevCentroids = centroids\n",
    "        centroids = computeCentroids(clusters)\n",
    "        withinss = computeWithinss(clusters, centroids, dist)\n",
    "#         if animation:\n",
    "#             paintClusters2D(canvas, clusters, centroids,\n",
    "#                             \"Update %d, withinss %.1f\" % (iteration, withinss))\n",
    "#             time.sleep(delay)\n",
    "    print('Number of iterations are ', iteration)\n",
    "    result[\"clusters\"] = clusters\n",
    "    result[\"centroids\"] = centroids\n",
    "    result[\"withinss\"] = withinss\n",
    "    result[\"labels\"] = votelabels\n",
    "    return result"
   ]
  },
  {
   "cell_type": "code",
   "execution_count": 34,
   "metadata": {},
   "outputs": [
    {
     "data": {
      "text/html": [
       "<div>\n",
       "<style scoped>\n",
       "    .dataframe tbody tr th:only-of-type {\n",
       "        vertical-align: middle;\n",
       "    }\n",
       "\n",
       "    .dataframe tbody tr th {\n",
       "        vertical-align: top;\n",
       "    }\n",
       "\n",
       "    .dataframe thead th {\n",
       "        text-align: right;\n",
       "    }\n",
       "</style>\n",
       "<table border=\"1\" class=\"dataframe\">\n",
       "  <thead>\n",
       "    <tr style=\"text-align: right;\">\n",
       "      <th></th>\n",
       "      <th>Team</th>\n",
       "      <th>winsInSeason2016</th>\n",
       "      <th>winsInSeason2017</th>\n",
       "    </tr>\n",
       "  </thead>\n",
       "  <tbody>\n",
       "    <tr>\n",
       "      <td>0</td>\n",
       "      <td>X1</td>\n",
       "      <td>3</td>\n",
       "      <td>5</td>\n",
       "    </tr>\n",
       "    <tr>\n",
       "      <td>1</td>\n",
       "      <td>X2</td>\n",
       "      <td>3</td>\n",
       "      <td>4</td>\n",
       "    </tr>\n",
       "    <tr>\n",
       "      <td>2</td>\n",
       "      <td>X3</td>\n",
       "      <td>2</td>\n",
       "      <td>8</td>\n",
       "    </tr>\n",
       "    <tr>\n",
       "      <td>3</td>\n",
       "      <td>X4</td>\n",
       "      <td>2</td>\n",
       "      <td>3</td>\n",
       "    </tr>\n",
       "    <tr>\n",
       "      <td>4</td>\n",
       "      <td>X5</td>\n",
       "      <td>6</td>\n",
       "      <td>2</td>\n",
       "    </tr>\n",
       "    <tr>\n",
       "      <td>5</td>\n",
       "      <td>X6</td>\n",
       "      <td>6</td>\n",
       "      <td>4</td>\n",
       "    </tr>\n",
       "    <tr>\n",
       "      <td>6</td>\n",
       "      <td>X7</td>\n",
       "      <td>7</td>\n",
       "      <td>3</td>\n",
       "    </tr>\n",
       "    <tr>\n",
       "      <td>7</td>\n",
       "      <td>X8</td>\n",
       "      <td>7</td>\n",
       "      <td>4</td>\n",
       "    </tr>\n",
       "    <tr>\n",
       "      <td>8</td>\n",
       "      <td>X9</td>\n",
       "      <td>8</td>\n",
       "      <td>5</td>\n",
       "    </tr>\n",
       "    <tr>\n",
       "      <td>9</td>\n",
       "      <td>X10</td>\n",
       "      <td>7</td>\n",
       "      <td>6</td>\n",
       "    </tr>\n",
       "  </tbody>\n",
       "</table>\n",
       "</div>"
      ],
      "text/plain": [
       "  Team  winsInSeason2016  winsInSeason2017\n",
       "0   X1                 3                 5\n",
       "1   X2                 3                 4\n",
       "2   X3                 2                 8\n",
       "3   X4                 2                 3\n",
       "4   X5                 6                 2\n",
       "5   X6                 6                 4\n",
       "6   X7                 7                 3\n",
       "7   X8                 7                 4\n",
       "8   X9                 8                 5\n",
       "9  X10                 7                 6"
      ]
     },
     "execution_count": 34,
     "metadata": {},
     "output_type": "execute_result"
    }
   ],
   "source": [
    "data=pd.read_csv(r'C:\\Users\\97150\\Desktop\\Kmeans ml\\football.csv')\n",
    "data\n"
   ]
  },
  {
   "cell_type": "code",
   "execution_count": 35,
   "metadata": {},
   "outputs": [],
   "source": [
    "\n",
    "LabQ1= data.Team"
   ]
  },
  {
   "cell_type": "code",
   "execution_count": 36,
   "metadata": {},
   "outputs": [
    {
     "data": {
      "text/plain": [
       "0     X1\n",
       "1     X2\n",
       "2     X3\n",
       "3     X4\n",
       "4     X5\n",
       "5     X6\n",
       "6     X7\n",
       "7     X8\n",
       "8     X9\n",
       "9    X10\n",
       "Name: Team, dtype: object"
      ]
     },
     "execution_count": 36,
     "metadata": {},
     "output_type": "execute_result"
    }
   ],
   "source": [
    "LabQ1"
   ]
  },
  {
   "cell_type": "code",
   "execution_count": 37,
   "metadata": {},
   "outputs": [
    {
     "data": {
      "text/html": [
       "<div>\n",
       "<style scoped>\n",
       "    .dataframe tbody tr th:only-of-type {\n",
       "        vertical-align: middle;\n",
       "    }\n",
       "\n",
       "    .dataframe tbody tr th {\n",
       "        vertical-align: top;\n",
       "    }\n",
       "\n",
       "    .dataframe thead th {\n",
       "        text-align: right;\n",
       "    }\n",
       "</style>\n",
       "<table border=\"1\" class=\"dataframe\">\n",
       "  <thead>\n",
       "    <tr style=\"text-align: right;\">\n",
       "      <th></th>\n",
       "      <th>winsInSeason2016</th>\n",
       "      <th>winsInSeason2017</th>\n",
       "    </tr>\n",
       "  </thead>\n",
       "  <tbody>\n",
       "    <tr>\n",
       "      <td>0</td>\n",
       "      <td>3</td>\n",
       "      <td>5</td>\n",
       "    </tr>\n",
       "    <tr>\n",
       "      <td>1</td>\n",
       "      <td>3</td>\n",
       "      <td>4</td>\n",
       "    </tr>\n",
       "    <tr>\n",
       "      <td>2</td>\n",
       "      <td>2</td>\n",
       "      <td>8</td>\n",
       "    </tr>\n",
       "    <tr>\n",
       "      <td>3</td>\n",
       "      <td>2</td>\n",
       "      <td>3</td>\n",
       "    </tr>\n",
       "    <tr>\n",
       "      <td>4</td>\n",
       "      <td>6</td>\n",
       "      <td>2</td>\n",
       "    </tr>\n",
       "    <tr>\n",
       "      <td>5</td>\n",
       "      <td>6</td>\n",
       "      <td>4</td>\n",
       "    </tr>\n",
       "    <tr>\n",
       "      <td>6</td>\n",
       "      <td>7</td>\n",
       "      <td>3</td>\n",
       "    </tr>\n",
       "    <tr>\n",
       "      <td>7</td>\n",
       "      <td>7</td>\n",
       "      <td>4</td>\n",
       "    </tr>\n",
       "    <tr>\n",
       "      <td>8</td>\n",
       "      <td>8</td>\n",
       "      <td>5</td>\n",
       "    </tr>\n",
       "    <tr>\n",
       "      <td>9</td>\n",
       "      <td>7</td>\n",
       "      <td>6</td>\n",
       "    </tr>\n",
       "  </tbody>\n",
       "</table>\n",
       "</div>"
      ],
      "text/plain": [
       "   winsInSeason2016  winsInSeason2017\n",
       "0                 3                 5\n",
       "1                 3                 4\n",
       "2                 2                 8\n",
       "3                 2                 3\n",
       "4                 6                 2\n",
       "5                 6                 4\n",
       "6                 7                 3\n",
       "7                 7                 4\n",
       "8                 8                 5\n",
       "9                 7                 6"
      ]
     },
     "execution_count": 37,
     "metadata": {},
     "output_type": "execute_result"
    }
   ],
   "source": [
    "data = data.drop(['Team'], axis=1)\n",
    "data\n"
   ]
  },
  {
   "cell_type": "code",
   "execution_count": 38,
   "metadata": {},
   "outputs": [],
   "source": [
    "\n",
    "array1 = np.array([[4, 6], [5, 4]])"
   ]
  },
  {
   "cell_type": "code",
   "execution_count": 39,
   "metadata": {},
   "outputs": [],
   "source": [
    "\n",
    "dataset_football = data.values.tolist()"
   ]
  },
  {
   "cell_type": "code",
   "execution_count": 40,
   "metadata": {},
   "outputs": [],
   "source": [
    "\n",
    "x=data.winsInSeason2016\n",
    "y=data.winsInSeason2017"
   ]
  },
  {
   "cell_type": "code",
   "execution_count": 41,
   "metadata": {},
   "outputs": [],
   "source": [
    "\n",
    "def manhatten(x,y):\n",
    "    result=[]\n",
    "    if len(x) == len(y)+1:\n",
    "        x=x[1:]\n",
    "    for i in range(len(x)):\n",
    "        result.append(abs(x[i]-y[i]))\n",
    "        \n",
    "    return sum(result) \n"
   ]
  },
  {
   "cell_type": "code",
   "execution_count": 42,
   "metadata": {},
   "outputs": [],
   "source": [
    "import math\n",
    "\n",
    "def euclidean(centroid, data):\n",
    "    sum1=[]\n",
    "    if len(centroid) == len(data)+1:\n",
    "        centroid=centroid[1:]\n",
    "    for i in range (0, len(data)):\n",
    "        sum1.append((centroid[i]- data[i])**2)\n",
    "    \n",
    "    \n",
    "    euclidean= math.sqrt(sum(sum1))\n",
    "    return euclidean"
   ]
  },
  {
   "cell_type": "code",
   "execution_count": 43,
   "metadata": {},
   "outputs": [
    {
     "data": {
      "text/plain": [
       "[[3, 5],\n",
       " [3, 4],\n",
       " [2, 8],\n",
       " [2, 3],\n",
       " [6, 2],\n",
       " [6, 4],\n",
       " [7, 3],\n",
       " [7, 4],\n",
       " [8, 5],\n",
       " [7, 6]]"
      ]
     },
     "execution_count": 43,
     "metadata": {},
     "output_type": "execute_result"
    }
   ],
   "source": [
    "dataset_football"
   ]
  },
  {
   "cell_type": "code",
   "execution_count": 44,
   "metadata": {},
   "outputs": [
    {
     "name": "stdout",
     "output_type": "stream",
     "text": [
      "Number of iterations are  2\n",
      "centroid0\t4.00 6.33 \n",
      "centroid1\t5.57 3.57 \n",
      "[[[3, 5], [2, 8], [7, 6]], [[3, 4], [2, 3], [6, 2], [6, 4], [7, 3], [7, 4], [8, 5]]]\n",
      "The SSE is:  54.09523809523809\n"
     ]
    }
   ],
   "source": [
    "clustering = kmeans(dataset_football, 2, manhatten,LabQ1, True, initCentroids=[[4,6],[5,4]])\n",
    "printTable(clustering[\"centroids\"])\n",
    "print(clustering['clusters'])\n",
    "print('The SSE is: ',sse(clustering['clusters'],clustering['centroids']))\n"
   ]
  },
  {
   "cell_type": "code",
   "execution_count": 45,
   "metadata": {},
   "outputs": [
    {
     "name": "stdout",
     "output_type": "stream",
     "text": [
      "Number of iterations are  3\n",
      "centroid0\t2.50 5.00 \n",
      "centroid1\t6.83 4.00 \n",
      "[[[3, 5], [3, 4], [2, 8], [2, 3]], [[6, 2], [6, 4], [7, 3], [7, 4], [8, 5], [7, 6]]]\n",
      "The SSE is: 27.833333333333332\n"
     ]
    }
   ],
   "source": [
    "\n",
    "clustering = kmeans(dataset_football, 2, euclidean,LabQ1, True, initCentroids=[[4,6],[5,4]])\n",
    "printTable(clustering[\"centroids\"])\n",
    "print(clustering['clusters'])\n",
    "print('The SSE is:',sse(clustering['clusters'],clustering['centroids']))\n"
   ]
  },
  {
   "cell_type": "code",
   "execution_count": 46,
   "metadata": {},
   "outputs": [
    {
     "name": "stdout",
     "output_type": "stream",
     "text": [
      "Number of iterations are  2\n",
      "centroid0\t2.50 5.00 \n",
      "centroid1\t6.83 4.00 \n",
      "[[[3, 5], [3, 4], [2, 8], [2, 3]], [[6, 2], [6, 4], [7, 3], [7, 4], [8, 5], [7, 6]]]\n",
      "The SSE is: 27.833333333333332\n"
     ]
    }
   ],
   "source": [
    "\n",
    "clustering = kmeans(dataset_football, 2, manhatten, LabQ1, True, initCentroids=[[3,3],[8,3]])\n",
    "printTable(clustering[\"centroids\"])\n",
    "print(clustering['clusters'])\n",
    "print('The SSE is:',sse(clustering['clusters'],clustering['centroids']))\n"
   ]
  },
  {
   "cell_type": "code",
   "execution_count": 47,
   "metadata": {},
   "outputs": [
    {
     "name": "stdout",
     "output_type": "stream",
     "text": [
      "Number of iterations are  2\n",
      "centroid0\t4.86 3.57 \n",
      "centroid1\t5.67 6.33 \n",
      "[[[3, 5], [3, 4], [2, 3], [6, 2], [6, 4], [7, 3], [7, 4]], [[2, 8], [8, 5], [7, 6]]]\n",
      "The SSE is: 57.904761904761905\n"
     ]
    }
   ],
   "source": [
    "\n",
    "clustering = kmeans(dataset_football, 2, manhatten, LabQ1, True, initCentroids=[[3,2],[4,8]])\n",
    "printTable(clustering[\"centroids\"])\n",
    "print(clustering['clusters'])\n",
    "print('The SSE is:',sse(clustering['clusters'],clustering['centroids']))\n"
   ]
  },
  {
   "cell_type": "code",
   "execution_count": 48,
   "metadata": {},
   "outputs": [],
   "source": [
    "names = [\n",
    "  'sepal_length',\n",
    "  'sepal_width',\n",
    "  'petal_length',\n",
    "  'petal_width',\n",
    "  'class',\n",
    "]\n"
   ]
  },
  {
   "cell_type": "code",
   "execution_count": 49,
   "metadata": {},
   "outputs": [
    {
     "data": {
      "text/plain": [
       "['sepal_length', 'sepal_width', 'petal_length', 'petal_width', 'class']"
      ]
     },
     "execution_count": 49,
     "metadata": {},
     "output_type": "execute_result"
    }
   ],
   "source": [
    "names"
   ]
  },
  {
   "cell_type": "code",
   "execution_count": 50,
   "metadata": {},
   "outputs": [
    {
     "data": {
      "text/html": [
       "<div>\n",
       "<style scoped>\n",
       "    .dataframe tbody tr th:only-of-type {\n",
       "        vertical-align: middle;\n",
       "    }\n",
       "\n",
       "    .dataframe tbody tr th {\n",
       "        vertical-align: top;\n",
       "    }\n",
       "\n",
       "    .dataframe thead th {\n",
       "        text-align: right;\n",
       "    }\n",
       "</style>\n",
       "<table border=\"1\" class=\"dataframe\">\n",
       "  <thead>\n",
       "    <tr style=\"text-align: right;\">\n",
       "      <th></th>\n",
       "      <th>sepal_length</th>\n",
       "      <th>sepal_width</th>\n",
       "      <th>petal_length</th>\n",
       "      <th>petal_width</th>\n",
       "      <th>class</th>\n",
       "    </tr>\n",
       "  </thead>\n",
       "  <tbody>\n",
       "    <tr>\n",
       "      <td>0</td>\n",
       "      <td>5.1</td>\n",
       "      <td>3.5</td>\n",
       "      <td>1.4</td>\n",
       "      <td>0.2</td>\n",
       "      <td>Iris-setosa</td>\n",
       "    </tr>\n",
       "    <tr>\n",
       "      <td>1</td>\n",
       "      <td>4.9</td>\n",
       "      <td>3.0</td>\n",
       "      <td>1.4</td>\n",
       "      <td>0.2</td>\n",
       "      <td>Iris-setosa</td>\n",
       "    </tr>\n",
       "    <tr>\n",
       "      <td>2</td>\n",
       "      <td>4.7</td>\n",
       "      <td>3.2</td>\n",
       "      <td>1.3</td>\n",
       "      <td>0.2</td>\n",
       "      <td>Iris-setosa</td>\n",
       "    </tr>\n",
       "    <tr>\n",
       "      <td>3</td>\n",
       "      <td>4.6</td>\n",
       "      <td>3.1</td>\n",
       "      <td>1.5</td>\n",
       "      <td>0.2</td>\n",
       "      <td>Iris-setosa</td>\n",
       "    </tr>\n",
       "    <tr>\n",
       "      <td>4</td>\n",
       "      <td>5.0</td>\n",
       "      <td>3.6</td>\n",
       "      <td>1.4</td>\n",
       "      <td>0.2</td>\n",
       "      <td>Iris-setosa</td>\n",
       "    </tr>\n",
       "    <tr>\n",
       "      <td>...</td>\n",
       "      <td>...</td>\n",
       "      <td>...</td>\n",
       "      <td>...</td>\n",
       "      <td>...</td>\n",
       "      <td>...</td>\n",
       "    </tr>\n",
       "    <tr>\n",
       "      <td>145</td>\n",
       "      <td>6.7</td>\n",
       "      <td>3.0</td>\n",
       "      <td>5.2</td>\n",
       "      <td>2.3</td>\n",
       "      <td>Iris-virginica</td>\n",
       "    </tr>\n",
       "    <tr>\n",
       "      <td>146</td>\n",
       "      <td>6.3</td>\n",
       "      <td>2.5</td>\n",
       "      <td>5.0</td>\n",
       "      <td>1.9</td>\n",
       "      <td>Iris-virginica</td>\n",
       "    </tr>\n",
       "    <tr>\n",
       "      <td>147</td>\n",
       "      <td>6.5</td>\n",
       "      <td>3.0</td>\n",
       "      <td>5.2</td>\n",
       "      <td>2.0</td>\n",
       "      <td>Iris-virginica</td>\n",
       "    </tr>\n",
       "    <tr>\n",
       "      <td>148</td>\n",
       "      <td>6.2</td>\n",
       "      <td>3.4</td>\n",
       "      <td>5.4</td>\n",
       "      <td>2.3</td>\n",
       "      <td>Iris-virginica</td>\n",
       "    </tr>\n",
       "    <tr>\n",
       "      <td>149</td>\n",
       "      <td>5.9</td>\n",
       "      <td>3.0</td>\n",
       "      <td>5.1</td>\n",
       "      <td>1.8</td>\n",
       "      <td>Iris-virginica</td>\n",
       "    </tr>\n",
       "  </tbody>\n",
       "</table>\n",
       "<p>150 rows × 5 columns</p>\n",
       "</div>"
      ],
      "text/plain": [
       "     sepal_length  sepal_width  petal_length  petal_width           class\n",
       "0             5.1          3.5           1.4          0.2     Iris-setosa\n",
       "1             4.9          3.0           1.4          0.2     Iris-setosa\n",
       "2             4.7          3.2           1.3          0.2     Iris-setosa\n",
       "3             4.6          3.1           1.5          0.2     Iris-setosa\n",
       "4             5.0          3.6           1.4          0.2     Iris-setosa\n",
       "..            ...          ...           ...          ...             ...\n",
       "145           6.7          3.0           5.2          2.3  Iris-virginica\n",
       "146           6.3          2.5           5.0          1.9  Iris-virginica\n",
       "147           6.5          3.0           5.2          2.0  Iris-virginica\n",
       "148           6.2          3.4           5.4          2.3  Iris-virginica\n",
       "149           5.9          3.0           5.1          1.8  Iris-virginica\n",
       "\n",
       "[150 rows x 5 columns]"
      ]
     },
     "execution_count": 50,
     "metadata": {},
     "output_type": "execute_result"
    }
   ],
   "source": [
    "iris_df = pd.read_csv('/Users/97150/Desktop/Kmeans ml/iris.data', header=None, names=names)\n",
    "iris_df"
   ]
  },
  {
   "cell_type": "code",
   "execution_count": 51,
   "metadata": {},
   "outputs": [],
   "source": [
    "\n",
    "labels = iris_df['class'].values.tolist()\n"
   ]
  },
  {
   "cell_type": "code",
   "execution_count": 52,
   "metadata": {},
   "outputs": [
    {
     "data": {
      "text/plain": [
       "['Iris-setosa',\n",
       " 'Iris-setosa',\n",
       " 'Iris-setosa',\n",
       " 'Iris-setosa',\n",
       " 'Iris-setosa',\n",
       " 'Iris-setosa',\n",
       " 'Iris-setosa',\n",
       " 'Iris-setosa',\n",
       " 'Iris-setosa',\n",
       " 'Iris-setosa',\n",
       " 'Iris-setosa',\n",
       " 'Iris-setosa',\n",
       " 'Iris-setosa',\n",
       " 'Iris-setosa',\n",
       " 'Iris-setosa',\n",
       " 'Iris-setosa',\n",
       " 'Iris-setosa',\n",
       " 'Iris-setosa',\n",
       " 'Iris-setosa',\n",
       " 'Iris-setosa',\n",
       " 'Iris-setosa',\n",
       " 'Iris-setosa',\n",
       " 'Iris-setosa',\n",
       " 'Iris-setosa',\n",
       " 'Iris-setosa',\n",
       " 'Iris-setosa',\n",
       " 'Iris-setosa',\n",
       " 'Iris-setosa',\n",
       " 'Iris-setosa',\n",
       " 'Iris-setosa',\n",
       " 'Iris-setosa',\n",
       " 'Iris-setosa',\n",
       " 'Iris-setosa',\n",
       " 'Iris-setosa',\n",
       " 'Iris-setosa',\n",
       " 'Iris-setosa',\n",
       " 'Iris-setosa',\n",
       " 'Iris-setosa',\n",
       " 'Iris-setosa',\n",
       " 'Iris-setosa',\n",
       " 'Iris-setosa',\n",
       " 'Iris-setosa',\n",
       " 'Iris-setosa',\n",
       " 'Iris-setosa',\n",
       " 'Iris-setosa',\n",
       " 'Iris-setosa',\n",
       " 'Iris-setosa',\n",
       " 'Iris-setosa',\n",
       " 'Iris-setosa',\n",
       " 'Iris-setosa',\n",
       " 'Iris-versicolor',\n",
       " 'Iris-versicolor',\n",
       " 'Iris-versicolor',\n",
       " 'Iris-versicolor',\n",
       " 'Iris-versicolor',\n",
       " 'Iris-versicolor',\n",
       " 'Iris-versicolor',\n",
       " 'Iris-versicolor',\n",
       " 'Iris-versicolor',\n",
       " 'Iris-versicolor',\n",
       " 'Iris-versicolor',\n",
       " 'Iris-versicolor',\n",
       " 'Iris-versicolor',\n",
       " 'Iris-versicolor',\n",
       " 'Iris-versicolor',\n",
       " 'Iris-versicolor',\n",
       " 'Iris-versicolor',\n",
       " 'Iris-versicolor',\n",
       " 'Iris-versicolor',\n",
       " 'Iris-versicolor',\n",
       " 'Iris-versicolor',\n",
       " 'Iris-versicolor',\n",
       " 'Iris-versicolor',\n",
       " 'Iris-versicolor',\n",
       " 'Iris-versicolor',\n",
       " 'Iris-versicolor',\n",
       " 'Iris-versicolor',\n",
       " 'Iris-versicolor',\n",
       " 'Iris-versicolor',\n",
       " 'Iris-versicolor',\n",
       " 'Iris-versicolor',\n",
       " 'Iris-versicolor',\n",
       " 'Iris-versicolor',\n",
       " 'Iris-versicolor',\n",
       " 'Iris-versicolor',\n",
       " 'Iris-versicolor',\n",
       " 'Iris-versicolor',\n",
       " 'Iris-versicolor',\n",
       " 'Iris-versicolor',\n",
       " 'Iris-versicolor',\n",
       " 'Iris-versicolor',\n",
       " 'Iris-versicolor',\n",
       " 'Iris-versicolor',\n",
       " 'Iris-versicolor',\n",
       " 'Iris-versicolor',\n",
       " 'Iris-versicolor',\n",
       " 'Iris-versicolor',\n",
       " 'Iris-versicolor',\n",
       " 'Iris-versicolor',\n",
       " 'Iris-versicolor',\n",
       " 'Iris-virginica',\n",
       " 'Iris-virginica',\n",
       " 'Iris-virginica',\n",
       " 'Iris-virginica',\n",
       " 'Iris-virginica',\n",
       " 'Iris-virginica',\n",
       " 'Iris-virginica',\n",
       " 'Iris-virginica',\n",
       " 'Iris-virginica',\n",
       " 'Iris-virginica',\n",
       " 'Iris-virginica',\n",
       " 'Iris-virginica',\n",
       " 'Iris-virginica',\n",
       " 'Iris-virginica',\n",
       " 'Iris-virginica',\n",
       " 'Iris-virginica',\n",
       " 'Iris-virginica',\n",
       " 'Iris-virginica',\n",
       " 'Iris-virginica',\n",
       " 'Iris-virginica',\n",
       " 'Iris-virginica',\n",
       " 'Iris-virginica',\n",
       " 'Iris-virginica',\n",
       " 'Iris-virginica',\n",
       " 'Iris-virginica',\n",
       " 'Iris-virginica',\n",
       " 'Iris-virginica',\n",
       " 'Iris-virginica',\n",
       " 'Iris-virginica',\n",
       " 'Iris-virginica',\n",
       " 'Iris-virginica',\n",
       " 'Iris-virginica',\n",
       " 'Iris-virginica',\n",
       " 'Iris-virginica',\n",
       " 'Iris-virginica',\n",
       " 'Iris-virginica',\n",
       " 'Iris-virginica',\n",
       " 'Iris-virginica',\n",
       " 'Iris-virginica',\n",
       " 'Iris-virginica',\n",
       " 'Iris-virginica',\n",
       " 'Iris-virginica',\n",
       " 'Iris-virginica',\n",
       " 'Iris-virginica',\n",
       " 'Iris-virginica',\n",
       " 'Iris-virginica',\n",
       " 'Iris-virginica',\n",
       " 'Iris-virginica',\n",
       " 'Iris-virginica',\n",
       " 'Iris-virginica']"
      ]
     },
     "execution_count": 52,
     "metadata": {},
     "output_type": "execute_result"
    }
   ],
   "source": [
    "labels"
   ]
  },
  {
   "cell_type": "code",
   "execution_count": 53,
   "metadata": {},
   "outputs": [
    {
     "data": {
      "text/html": [
       "<div>\n",
       "<style scoped>\n",
       "    .dataframe tbody tr th:only-of-type {\n",
       "        vertical-align: middle;\n",
       "    }\n",
       "\n",
       "    .dataframe tbody tr th {\n",
       "        vertical-align: top;\n",
       "    }\n",
       "\n",
       "    .dataframe thead th {\n",
       "        text-align: right;\n",
       "    }\n",
       "</style>\n",
       "<table border=\"1\" class=\"dataframe\">\n",
       "  <thead>\n",
       "    <tr style=\"text-align: right;\">\n",
       "      <th></th>\n",
       "      <th>sepal_length</th>\n",
       "      <th>sepal_width</th>\n",
       "      <th>petal_length</th>\n",
       "      <th>petal_width</th>\n",
       "      <th>class</th>\n",
       "    </tr>\n",
       "  </thead>\n",
       "  <tbody>\n",
       "    <tr>\n",
       "      <td>0</td>\n",
       "      <td>5.1</td>\n",
       "      <td>3.5</td>\n",
       "      <td>1.4</td>\n",
       "      <td>0.2</td>\n",
       "      <td>Iris-setosa</td>\n",
       "    </tr>\n",
       "    <tr>\n",
       "      <td>1</td>\n",
       "      <td>4.9</td>\n",
       "      <td>3.0</td>\n",
       "      <td>1.4</td>\n",
       "      <td>0.2</td>\n",
       "      <td>Iris-setosa</td>\n",
       "    </tr>\n",
       "    <tr>\n",
       "      <td>2</td>\n",
       "      <td>4.7</td>\n",
       "      <td>3.2</td>\n",
       "      <td>1.3</td>\n",
       "      <td>0.2</td>\n",
       "      <td>Iris-setosa</td>\n",
       "    </tr>\n",
       "    <tr>\n",
       "      <td>3</td>\n",
       "      <td>4.6</td>\n",
       "      <td>3.1</td>\n",
       "      <td>1.5</td>\n",
       "      <td>0.2</td>\n",
       "      <td>Iris-setosa</td>\n",
       "    </tr>\n",
       "    <tr>\n",
       "      <td>4</td>\n",
       "      <td>5.0</td>\n",
       "      <td>3.6</td>\n",
       "      <td>1.4</td>\n",
       "      <td>0.2</td>\n",
       "      <td>Iris-setosa</td>\n",
       "    </tr>\n",
       "    <tr>\n",
       "      <td>...</td>\n",
       "      <td>...</td>\n",
       "      <td>...</td>\n",
       "      <td>...</td>\n",
       "      <td>...</td>\n",
       "      <td>...</td>\n",
       "    </tr>\n",
       "    <tr>\n",
       "      <td>145</td>\n",
       "      <td>6.7</td>\n",
       "      <td>3.0</td>\n",
       "      <td>5.2</td>\n",
       "      <td>2.3</td>\n",
       "      <td>Iris-virginica</td>\n",
       "    </tr>\n",
       "    <tr>\n",
       "      <td>146</td>\n",
       "      <td>6.3</td>\n",
       "      <td>2.5</td>\n",
       "      <td>5.0</td>\n",
       "      <td>1.9</td>\n",
       "      <td>Iris-virginica</td>\n",
       "    </tr>\n",
       "    <tr>\n",
       "      <td>147</td>\n",
       "      <td>6.5</td>\n",
       "      <td>3.0</td>\n",
       "      <td>5.2</td>\n",
       "      <td>2.0</td>\n",
       "      <td>Iris-virginica</td>\n",
       "    </tr>\n",
       "    <tr>\n",
       "      <td>148</td>\n",
       "      <td>6.2</td>\n",
       "      <td>3.4</td>\n",
       "      <td>5.4</td>\n",
       "      <td>2.3</td>\n",
       "      <td>Iris-virginica</td>\n",
       "    </tr>\n",
       "    <tr>\n",
       "      <td>149</td>\n",
       "      <td>5.9</td>\n",
       "      <td>3.0</td>\n",
       "      <td>5.1</td>\n",
       "      <td>1.8</td>\n",
       "      <td>Iris-virginica</td>\n",
       "    </tr>\n",
       "  </tbody>\n",
       "</table>\n",
       "<p>150 rows × 5 columns</p>\n",
       "</div>"
      ],
      "text/plain": [
       "     sepal_length  sepal_width  petal_length  petal_width           class\n",
       "0             5.1          3.5           1.4          0.2     Iris-setosa\n",
       "1             4.9          3.0           1.4          0.2     Iris-setosa\n",
       "2             4.7          3.2           1.3          0.2     Iris-setosa\n",
       "3             4.6          3.1           1.5          0.2     Iris-setosa\n",
       "4             5.0          3.6           1.4          0.2     Iris-setosa\n",
       "..            ...          ...           ...          ...             ...\n",
       "145           6.7          3.0           5.2          2.3  Iris-virginica\n",
       "146           6.3          2.5           5.0          1.9  Iris-virginica\n",
       "147           6.5          3.0           5.2          2.0  Iris-virginica\n",
       "148           6.2          3.4           5.4          2.3  Iris-virginica\n",
       "149           5.9          3.0           5.1          1.8  Iris-virginica\n",
       "\n",
       "[150 rows x 5 columns]"
      ]
     },
     "execution_count": 53,
     "metadata": {},
     "output_type": "execute_result"
    }
   ],
   "source": [
    "import numpy as np\n",
    "iris_df.dropna()"
   ]
  },
  {
   "cell_type": "code",
   "execution_count": 54,
   "metadata": {},
   "outputs": [
    {
     "data": {
      "text/plain": [
       "array(['Iris-setosa', 'Iris-versicolor', 'Iris-virginica'], dtype=object)"
      ]
     },
     "execution_count": 54,
     "metadata": {},
     "output_type": "execute_result"
    }
   ],
   "source": [
    "iris_df['class'].unique()"
   ]
  },
  {
   "cell_type": "code",
   "execution_count": 55,
   "metadata": {},
   "outputs": [],
   "source": [
    "Y = iris_df"
   ]
  },
  {
   "cell_type": "code",
   "execution_count": 56,
   "metadata": {},
   "outputs": [],
   "source": [
    "data=iris_df.drop(['class'], axis=1)"
   ]
  },
  {
   "cell_type": "code",
   "execution_count": 57,
   "metadata": {},
   "outputs": [],
   "source": [
    "import math\n",
    "import random\n",
    "import time\n",
    "from tkinter import *"
   ]
  },
  {
   "cell_type": "code",
   "execution_count": 58,
   "metadata": {},
   "outputs": [],
   "source": [
    "import math\n",
    "\n",
    "def euclidean(centroid, data):\n",
    "    sum1=[]\n",
    "    if len(centroid) == len(data)+1:\n",
    "        centroid=centroid[1:]\n",
    "    for i in range (0, len(data)):\n",
    "        sum1.append((centroid[i]- data[i])**2)\n",
    "    \n",
    "    \n",
    "    euclidean= math.sqrt(sum(sum1))\n",
    "    return euclidean"
   ]
  },
  {
   "cell_type": "code",
   "execution_count": 59,
   "metadata": {},
   "outputs": [
    {
     "data": {
      "text/plain": [
       "[[5.1, 3.5, 1.4, 0.2],\n",
       " [4.9, 3.0, 1.4, 0.2],\n",
       " [4.7, 3.2, 1.3, 0.2],\n",
       " [4.6, 3.1, 1.5, 0.2],\n",
       " [5.0, 3.6, 1.4, 0.2],\n",
       " [5.4, 3.9, 1.7, 0.4],\n",
       " [4.6, 3.4, 1.4, 0.3],\n",
       " [5.0, 3.4, 1.5, 0.2],\n",
       " [4.4, 2.9, 1.4, 0.2],\n",
       " [4.9, 3.1, 1.5, 0.1],\n",
       " [5.4, 3.7, 1.5, 0.2],\n",
       " [4.8, 3.4, 1.6, 0.2],\n",
       " [4.8, 3.0, 1.4, 0.1],\n",
       " [4.3, 3.0, 1.1, 0.1],\n",
       " [5.8, 4.0, 1.2, 0.2],\n",
       " [5.7, 4.4, 1.5, 0.4],\n",
       " [5.4, 3.9, 1.3, 0.4],\n",
       " [5.1, 3.5, 1.4, 0.3],\n",
       " [5.7, 3.8, 1.7, 0.3],\n",
       " [5.1, 3.8, 1.5, 0.3],\n",
       " [5.4, 3.4, 1.7, 0.2],\n",
       " [5.1, 3.7, 1.5, 0.4],\n",
       " [4.6, 3.6, 1.0, 0.2],\n",
       " [5.1, 3.3, 1.7, 0.5],\n",
       " [4.8, 3.4, 1.9, 0.2],\n",
       " [5.0, 3.0, 1.6, 0.2],\n",
       " [5.0, 3.4, 1.6, 0.4],\n",
       " [5.2, 3.5, 1.5, 0.2],\n",
       " [5.2, 3.4, 1.4, 0.2],\n",
       " [4.7, 3.2, 1.6, 0.2],\n",
       " [4.8, 3.1, 1.6, 0.2],\n",
       " [5.4, 3.4, 1.5, 0.4],\n",
       " [5.2, 4.1, 1.5, 0.1],\n",
       " [5.5, 4.2, 1.4, 0.2],\n",
       " [4.9, 3.1, 1.5, 0.1],\n",
       " [5.0, 3.2, 1.2, 0.2],\n",
       " [5.5, 3.5, 1.3, 0.2],\n",
       " [4.9, 3.1, 1.5, 0.1],\n",
       " [4.4, 3.0, 1.3, 0.2],\n",
       " [5.1, 3.4, 1.5, 0.2],\n",
       " [5.0, 3.5, 1.3, 0.3],\n",
       " [4.5, 2.3, 1.3, 0.3],\n",
       " [4.4, 3.2, 1.3, 0.2],\n",
       " [5.0, 3.5, 1.6, 0.6],\n",
       " [5.1, 3.8, 1.9, 0.4],\n",
       " [4.8, 3.0, 1.4, 0.3],\n",
       " [5.1, 3.8, 1.6, 0.2],\n",
       " [4.6, 3.2, 1.4, 0.2],\n",
       " [5.3, 3.7, 1.5, 0.2],\n",
       " [5.0, 3.3, 1.4, 0.2],\n",
       " [7.0, 3.2, 4.7, 1.4],\n",
       " [6.4, 3.2, 4.5, 1.5],\n",
       " [6.9, 3.1, 4.9, 1.5],\n",
       " [5.5, 2.3, 4.0, 1.3],\n",
       " [6.5, 2.8, 4.6, 1.5],\n",
       " [5.7, 2.8, 4.5, 1.3],\n",
       " [6.3, 3.3, 4.7, 1.6],\n",
       " [4.9, 2.4, 3.3, 1.0],\n",
       " [6.6, 2.9, 4.6, 1.3],\n",
       " [5.2, 2.7, 3.9, 1.4],\n",
       " [5.0, 2.0, 3.5, 1.0],\n",
       " [5.9, 3.0, 4.2, 1.5],\n",
       " [6.0, 2.2, 4.0, 1.0],\n",
       " [6.1, 2.9, 4.7, 1.4],\n",
       " [5.6, 2.9, 3.6, 1.3],\n",
       " [6.7, 3.1, 4.4, 1.4],\n",
       " [5.6, 3.0, 4.5, 1.5],\n",
       " [5.8, 2.7, 4.1, 1.0],\n",
       " [6.2, 2.2, 4.5, 1.5],\n",
       " [5.6, 2.5, 3.9, 1.1],\n",
       " [5.9, 3.2, 4.8, 1.8],\n",
       " [6.1, 2.8, 4.0, 1.3],\n",
       " [6.3, 2.5, 4.9, 1.5],\n",
       " [6.1, 2.8, 4.7, 1.2],\n",
       " [6.4, 2.9, 4.3, 1.3],\n",
       " [6.6, 3.0, 4.4, 1.4],\n",
       " [6.8, 2.8, 4.8, 1.4],\n",
       " [6.7, 3.0, 5.0, 1.7],\n",
       " [6.0, 2.9, 4.5, 1.5],\n",
       " [5.7, 2.6, 3.5, 1.0],\n",
       " [5.5, 2.4, 3.8, 1.1],\n",
       " [5.5, 2.4, 3.7, 1.0],\n",
       " [5.8, 2.7, 3.9, 1.2],\n",
       " [6.0, 2.7, 5.1, 1.6],\n",
       " [5.4, 3.0, 4.5, 1.5],\n",
       " [6.0, 3.4, 4.5, 1.6],\n",
       " [6.7, 3.1, 4.7, 1.5],\n",
       " [6.3, 2.3, 4.4, 1.3],\n",
       " [5.6, 3.0, 4.1, 1.3],\n",
       " [5.5, 2.5, 4.0, 1.3],\n",
       " [5.5, 2.6, 4.4, 1.2],\n",
       " [6.1, 3.0, 4.6, 1.4],\n",
       " [5.8, 2.6, 4.0, 1.2],\n",
       " [5.0, 2.3, 3.3, 1.0],\n",
       " [5.6, 2.7, 4.2, 1.3],\n",
       " [5.7, 3.0, 4.2, 1.2],\n",
       " [5.7, 2.9, 4.2, 1.3],\n",
       " [6.2, 2.9, 4.3, 1.3],\n",
       " [5.1, 2.5, 3.0, 1.1],\n",
       " [5.7, 2.8, 4.1, 1.3],\n",
       " [6.3, 3.3, 6.0, 2.5],\n",
       " [5.8, 2.7, 5.1, 1.9],\n",
       " [7.1, 3.0, 5.9, 2.1],\n",
       " [6.3, 2.9, 5.6, 1.8],\n",
       " [6.5, 3.0, 5.8, 2.2],\n",
       " [7.6, 3.0, 6.6, 2.1],\n",
       " [4.9, 2.5, 4.5, 1.7],\n",
       " [7.3, 2.9, 6.3, 1.8],\n",
       " [6.7, 2.5, 5.8, 1.8],\n",
       " [7.2, 3.6, 6.1, 2.5],\n",
       " [6.5, 3.2, 5.1, 2.0],\n",
       " [6.4, 2.7, 5.3, 1.9],\n",
       " [6.8, 3.0, 5.5, 2.1],\n",
       " [5.7, 2.5, 5.0, 2.0],\n",
       " [5.8, 2.8, 5.1, 2.4],\n",
       " [6.4, 3.2, 5.3, 2.3],\n",
       " [6.5, 3.0, 5.5, 1.8],\n",
       " [7.7, 3.8, 6.7, 2.2],\n",
       " [7.7, 2.6, 6.9, 2.3],\n",
       " [6.0, 2.2, 5.0, 1.5],\n",
       " [6.9, 3.2, 5.7, 2.3],\n",
       " [5.6, 2.8, 4.9, 2.0],\n",
       " [7.7, 2.8, 6.7, 2.0],\n",
       " [6.3, 2.7, 4.9, 1.8],\n",
       " [6.7, 3.3, 5.7, 2.1],\n",
       " [7.2, 3.2, 6.0, 1.8],\n",
       " [6.2, 2.8, 4.8, 1.8],\n",
       " [6.1, 3.0, 4.9, 1.8],\n",
       " [6.4, 2.8, 5.6, 2.1],\n",
       " [7.2, 3.0, 5.8, 1.6],\n",
       " [7.4, 2.8, 6.1, 1.9],\n",
       " [7.9, 3.8, 6.4, 2.0],\n",
       " [6.4, 2.8, 5.6, 2.2],\n",
       " [6.3, 2.8, 5.1, 1.5],\n",
       " [6.1, 2.6, 5.6, 1.4],\n",
       " [7.7, 3.0, 6.1, 2.3],\n",
       " [6.3, 3.4, 5.6, 2.4],\n",
       " [6.4, 3.1, 5.5, 1.8],\n",
       " [6.0, 3.0, 4.8, 1.8],\n",
       " [6.9, 3.1, 5.4, 2.1],\n",
       " [6.7, 3.1, 5.6, 2.4],\n",
       " [6.9, 3.1, 5.1, 2.3],\n",
       " [5.8, 2.7, 5.1, 1.9],\n",
       " [6.8, 3.2, 5.9, 2.3],\n",
       " [6.7, 3.3, 5.7, 2.5],\n",
       " [6.7, 3.0, 5.2, 2.3],\n",
       " [6.3, 2.5, 5.0, 1.9],\n",
       " [6.5, 3.0, 5.2, 2.0],\n",
       " [6.2, 3.4, 5.4, 2.3],\n",
       " [5.9, 3.0, 5.1, 1.8]]"
      ]
     },
     "execution_count": 59,
     "metadata": {},
     "output_type": "execute_result"
    }
   ],
   "source": [
    "dataset_iris=data.values.tolist()\n",
    "dataset_iris\n"
   ]
  },
  {
   "cell_type": "code",
   "execution_count": 78,
   "metadata": {},
   "outputs": [
    {
     "name": "stdout",
     "output_type": "stream",
     "text": [
      "Number of iterations are  6\n",
      "centroid0\t5.01 3.42 1.46 0.24 \n",
      "centroid1\t6.54 2.96 5.50 1.99 \n",
      "centroid2\t5.94 2.76 4.21 1.30 \n",
      "SSE is  92.07870917874394\n",
      "Accuracy is  0.9733333333333334\n"
     ]
    }
   ],
   "source": [
    "clustering = kmeans(dataset_iris, 3, cosine,labels, True)\n",
    "printTable(clustering[\"centroids\"])\n",
    "#print(clustering)\n",
    "print('SSE is ',sse(clustering['clusters'],clustering['centroids']))\n",
    "print(\"Accuracy is \",accuracy(clustering))\n"
   ]
  },
  {
   "cell_type": "code",
   "execution_count": 77,
   "metadata": {},
   "outputs": [
    {
     "name": "stdout",
     "output_type": "stream",
     "text": [
      "Number of iterations are  11\n",
      "centroid0\t5.89 2.74 4.41 1.43 \n",
      "centroid1\t6.87 3.09 5.72 2.07 \n",
      "centroid2\t5.01 3.42 1.46 0.24 \n",
      "The SSE is:  79.18674974533108\n",
      "The Accuracy is:  0.88\n"
     ]
    }
   ],
   "source": [
    "clustering = kmeans(dataset_iris, 3, jaccard,labels, True)\n",
    "printTable(clustering[\"centroids\"])\n",
    "print('The SSE is: ',sse(clustering['clusters'],clustering['centroids']))\n",
    "print(\"The Accuracy is: \",accuracy(clustering))\n"
   ]
  },
  {
   "cell_type": "code",
   "execution_count": 76,
   "metadata": {},
   "outputs": [
    {
     "name": "stdout",
     "output_type": "stream",
     "text": [
      "Number of iterations are  8\n",
      "centroid0\t6.85 3.07 5.74 2.07 \n",
      "centroid1\t5.90 2.75 4.39 1.43 \n",
      "centroid2\t5.01 3.42 1.46 0.24 \n",
      "The SSE:  78.94084142614602\n",
      "The Accuracy is:  0.8933333333333333\n"
     ]
    }
   ],
   "source": [
    "clustering = kmeans(dataset_iris, 3, euclidean,labels, True)\n",
    "printTable(clustering[\"centroids\"])\n",
    "#print(clustering)\n",
    "print('The SSE: ',sse(clustering['clusters'],clustering['centroids']))\n",
    "print(\"The Accuracy is: \",accuracy(clustering))\n"
   ]
  },
  {
   "cell_type": "code",
   "execution_count": 63,
   "metadata": {},
   "outputs": [
    {
     "name": "stdout",
     "output_type": "stream",
     "text": [
      "Iris-versicolor\n"
     ]
    }
   ],
   "source": [
    "\n",
    "import statistics \n",
    "from statistics import mode \n",
    "\n",
    "print(mode(clustering['labels'][2]))"
   ]
  },
  {
   "cell_type": "code",
   "execution_count": 64,
   "metadata": {},
   "outputs": [
    {
     "data": {
      "text/plain": [
       "3"
      ]
     },
     "execution_count": 64,
     "metadata": {},
     "output_type": "execute_result"
    }
   ],
   "source": [
    "\n",
    "\n",
    "len(clustering['labels'])"
   ]
  },
  {
   "cell_type": "code",
   "execution_count": 65,
   "metadata": {},
   "outputs": [
    {
     "data": {
      "text/plain": [
       "[['Iris-setosa',\n",
       "  'Iris-setosa',\n",
       "  'Iris-setosa',\n",
       "  'Iris-setosa',\n",
       "  'Iris-setosa',\n",
       "  'Iris-setosa',\n",
       "  'Iris-setosa',\n",
       "  'Iris-setosa',\n",
       "  'Iris-setosa',\n",
       "  'Iris-setosa',\n",
       "  'Iris-setosa',\n",
       "  'Iris-setosa',\n",
       "  'Iris-setosa',\n",
       "  'Iris-setosa',\n",
       "  'Iris-setosa',\n",
       "  'Iris-setosa',\n",
       "  'Iris-setosa',\n",
       "  'Iris-setosa',\n",
       "  'Iris-setosa',\n",
       "  'Iris-setosa',\n",
       "  'Iris-setosa',\n",
       "  'Iris-setosa',\n",
       "  'Iris-setosa',\n",
       "  'Iris-setosa',\n",
       "  'Iris-setosa',\n",
       "  'Iris-setosa',\n",
       "  'Iris-setosa',\n",
       "  'Iris-setosa',\n",
       "  'Iris-setosa',\n",
       "  'Iris-setosa',\n",
       "  'Iris-setosa',\n",
       "  'Iris-setosa',\n",
       "  'Iris-setosa',\n",
       "  'Iris-setosa',\n",
       "  'Iris-setosa',\n",
       "  'Iris-setosa',\n",
       "  'Iris-setosa',\n",
       "  'Iris-setosa',\n",
       "  'Iris-setosa',\n",
       "  'Iris-setosa',\n",
       "  'Iris-setosa',\n",
       "  'Iris-setosa',\n",
       "  'Iris-setosa',\n",
       "  'Iris-setosa',\n",
       "  'Iris-setosa',\n",
       "  'Iris-setosa',\n",
       "  'Iris-setosa',\n",
       "  'Iris-setosa',\n",
       "  'Iris-setosa',\n",
       "  'Iris-setosa'],\n",
       " ['Iris-versicolor',\n",
       "  'Iris-versicolor',\n",
       "  'Iris-virginica',\n",
       "  'Iris-virginica',\n",
       "  'Iris-virginica',\n",
       "  'Iris-virginica',\n",
       "  'Iris-virginica',\n",
       "  'Iris-virginica',\n",
       "  'Iris-virginica',\n",
       "  'Iris-virginica',\n",
       "  'Iris-virginica',\n",
       "  'Iris-virginica',\n",
       "  'Iris-virginica',\n",
       "  'Iris-virginica',\n",
       "  'Iris-virginica',\n",
       "  'Iris-virginica',\n",
       "  'Iris-virginica',\n",
       "  'Iris-virginica',\n",
       "  'Iris-virginica',\n",
       "  'Iris-virginica',\n",
       "  'Iris-virginica',\n",
       "  'Iris-virginica',\n",
       "  'Iris-virginica',\n",
       "  'Iris-virginica',\n",
       "  'Iris-virginica',\n",
       "  'Iris-virginica',\n",
       "  'Iris-virginica',\n",
       "  'Iris-virginica',\n",
       "  'Iris-virginica',\n",
       "  'Iris-virginica',\n",
       "  'Iris-virginica',\n",
       "  'Iris-virginica',\n",
       "  'Iris-virginica',\n",
       "  'Iris-virginica',\n",
       "  'Iris-virginica',\n",
       "  'Iris-virginica',\n",
       "  'Iris-virginica',\n",
       "  'Iris-virginica'],\n",
       " ['Iris-versicolor',\n",
       "  'Iris-versicolor',\n",
       "  'Iris-versicolor',\n",
       "  'Iris-versicolor',\n",
       "  'Iris-versicolor',\n",
       "  'Iris-versicolor',\n",
       "  'Iris-versicolor',\n",
       "  'Iris-versicolor',\n",
       "  'Iris-versicolor',\n",
       "  'Iris-versicolor',\n",
       "  'Iris-versicolor',\n",
       "  'Iris-versicolor',\n",
       "  'Iris-versicolor',\n",
       "  'Iris-versicolor',\n",
       "  'Iris-versicolor',\n",
       "  'Iris-versicolor',\n",
       "  'Iris-versicolor',\n",
       "  'Iris-versicolor',\n",
       "  'Iris-versicolor',\n",
       "  'Iris-versicolor',\n",
       "  'Iris-versicolor',\n",
       "  'Iris-versicolor',\n",
       "  'Iris-versicolor',\n",
       "  'Iris-versicolor',\n",
       "  'Iris-versicolor',\n",
       "  'Iris-versicolor',\n",
       "  'Iris-versicolor',\n",
       "  'Iris-versicolor',\n",
       "  'Iris-versicolor',\n",
       "  'Iris-versicolor',\n",
       "  'Iris-versicolor',\n",
       "  'Iris-versicolor',\n",
       "  'Iris-versicolor',\n",
       "  'Iris-versicolor',\n",
       "  'Iris-versicolor',\n",
       "  'Iris-versicolor',\n",
       "  'Iris-versicolor',\n",
       "  'Iris-versicolor',\n",
       "  'Iris-versicolor',\n",
       "  'Iris-versicolor',\n",
       "  'Iris-versicolor',\n",
       "  'Iris-versicolor',\n",
       "  'Iris-versicolor',\n",
       "  'Iris-versicolor',\n",
       "  'Iris-versicolor',\n",
       "  'Iris-versicolor',\n",
       "  'Iris-versicolor',\n",
       "  'Iris-versicolor',\n",
       "  'Iris-virginica',\n",
       "  'Iris-virginica',\n",
       "  'Iris-virginica',\n",
       "  'Iris-virginica',\n",
       "  'Iris-virginica',\n",
       "  'Iris-virginica',\n",
       "  'Iris-virginica',\n",
       "  'Iris-virginica',\n",
       "  'Iris-virginica',\n",
       "  'Iris-virginica',\n",
       "  'Iris-virginica',\n",
       "  'Iris-virginica',\n",
       "  'Iris-virginica',\n",
       "  'Iris-virginica']]"
      ]
     },
     "execution_count": 65,
     "metadata": {},
     "output_type": "execute_result"
    }
   ],
   "source": [
    "\n",
    "clustering['labels']\n"
   ]
  },
  {
   "cell_type": "code",
   "execution_count": 66,
   "metadata": {},
   "outputs": [],
   "source": [
    "\n",
    "if clustering['labels'][0][0] == mode(clustering['labels'][1]):\n",
    "    print('True')\n"
   ]
  },
  {
   "cell_type": "code",
   "execution_count": 75,
   "metadata": {},
   "outputs": [
    {
     "name": "stdout",
     "output_type": "stream",
     "text": [
      "Number of iterations are  7\n",
      "prev sse 93.85979393939397\n",
      "new sse 93.85979393939397\n",
      "centroid0\t6.52 2.97 5.48 1.99 \n",
      "centroid1\t5.01 3.42 1.46 0.24 \n",
      "centroid2\t5.95 2.76 4.20 1.30 \n",
      "Time Taken:  0:00:00.580112\n",
      "The SSE is:  93.85979393939397\n",
      "The Accuracy is:  0.9666666666666667\n"
     ]
    }
   ],
   "source": [
    "before= datetime.now()\n",
    "clustering = kmeans_sse(dataset_iris, 3, cosine, labels, True)\n",
    "after= datetime.now()\n",
    "printTable(clustering[\"centroids\"])\n",
    "print(\"Time Taken: \", after- before)\n",
    "print('The SSE is: ',sse(clustering['clusters'],clustering['centroids']))\n",
    "print(\"The Accuracy is: \",accuracy(clustering))"
   ]
  },
  {
   "cell_type": "code",
   "execution_count": 74,
   "metadata": {},
   "outputs": [
    {
     "name": "stdout",
     "output_type": "stream",
     "text": [
      "Number of iterations are  5\n",
      "prev sse 79.14342874302875\n",
      "new sse 79.18674974533108\n",
      "centroid0\t5.89 2.74 4.41 1.43 \n",
      "centroid1\t5.01 3.42 1.46 0.24 \n",
      "centroid2\t6.87 3.09 5.72 2.07 \n",
      "The Time Taken:  0:00:00.011968\n",
      "The SSE: 79.18674974533108\n",
      "The Accuracy:  0.88\n"
     ]
    }
   ],
   "source": [
    "before= datetime.now()\n",
    "clustering = kmeans_sse(dataset_iris, 3, jaccard,labels, True)\n",
    "after= datetime.now()\n",
    "printTable(clustering[\"centroids\"])\n",
    "print(\"The Time Taken: \", after- before)\n",
    "print(\"The SSE:\" ,sse(clustering['clusters'],clustering['centroids']))\n",
    "print(\"The Accuracy: \",accuracy(clustering))"
   ]
  },
  {
   "cell_type": "code",
   "execution_count": 69,
   "metadata": {},
   "outputs": [
    {
     "name": "stdout",
     "output_type": "stream",
     "text": [
      "Number of iterations are  7\n",
      "prev sse 78.940841426146\n",
      "new sse 78.940841426146\n",
      "centroid0\t5.01 3.42 1.46 0.24 \n",
      "centroid1\t5.90 2.75 4.39 1.43 \n",
      "centroid2\t6.85 3.07 5.74 2.07 \n",
      "The Time Taken:  0:00:00.013962\n",
      "The SSE:  78.940841426146\n",
      "The Accuracy:  0.8933333333333333\n"
     ]
    }
   ],
   "source": [
    "before= datetime.now()\n",
    "clustering = kmeans_sse(dataset_iris, 3, euclidean,labels, True)\n",
    "after= datetime.now()\n",
    "printTable(clustering[\"centroids\"])\n",
    "print(\"The Time Taken: \", after- before)\n",
    "#print(clustering)\n",
    "print('The SSE: ',sse(clustering['clusters'],clustering['centroids']))\n",
    "print(\"The Accuracy: \",accuracy(clustering))"
   ]
  },
  {
   "cell_type": "code",
   "execution_count": 73,
   "metadata": {},
   "outputs": [
    {
     "name": "stdout",
     "output_type": "stream",
     "text": [
      "Number of iterations are  100\n",
      "centroid0\t5.95 2.76 4.20 1.30 \n",
      "centroid1\t5.01 3.42 1.46 0.24 \n",
      "centroid2\t6.52 2.97 5.48 1.99 \n",
      "The Time Taken:  0:00:08.187675\n",
      "The SSE:  93.85979393939395\n",
      "Accuracy: 0.9666666666666667\n"
     ]
    }
   ],
   "source": [
    "before= datetime.now()\n",
    "clustering = kmeans_100(dataset_iris, 3, cosine,labels, True)\n",
    "after= datetime.now()\n",
    "printTable(clustering[\"centroids\"])\n",
    "print(\"The Time Taken: \", after- before)\n",
    "#print(clustering)\n",
    "print(\"The SSE: \",sse(clustering['clusters'],clustering['centroids']))\n",
    "print(\"Accuracy:\",accuracy(clustering))"
   ]
  },
  {
   "cell_type": "code",
   "execution_count": 71,
   "metadata": {},
   "outputs": [
    {
     "name": "stdout",
     "output_type": "stream",
     "text": [
      "Number of iterations are  100\n",
      "centroid0\t5.01 3.42 1.46 0.24 \n",
      "centroid1\t5.69 2.67 4.12 1.27 \n",
      "centroid2\t6.61 3.00 5.39 1.92 \n",
      "Time Taken: 0:00:00.182283\n",
      "The SSE: 84.33228455008488\n",
      "Accuracy:  0.8933333333333333\n"
     ]
    }
   ],
   "source": [
    "before= datetime.now()\n",
    "clustering = kmeans_100(dataset_iris, 3, jaccard,labels, True)\n",
    "after= datetime.now()\n",
    "printTable(clustering[\"centroids\"])\n",
    "print(\"Time Taken:\", after - before)\n",
    "#print(clustering)\n",
    "print(\"The SSE:\",sse(clustering['clusters'],clustering['centroids']))\n",
    "print(\"Accuracy: \",accuracy(clustering))"
   ]
  },
  {
   "cell_type": "code",
   "execution_count": 72,
   "metadata": {},
   "outputs": [
    {
     "name": "stdout",
     "output_type": "stream",
     "text": [
      "Number of iterations are  100\n",
      "centroid0\t6.85 3.07 5.74 2.07 \n",
      "centroid1\t5.90 2.75 4.39 1.43 \n",
      "centroid2\t5.01 3.42 1.46 0.24 \n",
      "Time Taken:  0:00:00.133616\n",
      "The SSE: 78.94084142614602\n",
      "The Accuracy:  0.8933333333333333\n"
     ]
    }
   ],
   "source": [
    "before= datetime.now()\n",
    "clustering = kmeans_100(dataset_iris, 3, euclidean,labels, True)\n",
    "after= datetime.now()\n",
    "printTable(clustering[\"centroids\"])\n",
    "print(\"Time Taken: \", after- before)\n",
    "#print(clustering)\n",
    "print('The SSE:',sse(clustering['clusters'],clustering['centroids']))\n",
    "print(\"The Accuracy: \",accuracy(clustering))"
   ]
  },
  {
   "cell_type": "code",
   "execution_count": null,
   "metadata": {},
   "outputs": [],
   "source": []
  },
  {
   "cell_type": "code",
   "execution_count": null,
   "metadata": {},
   "outputs": [],
   "source": []
  },
  {
   "cell_type": "code",
   "execution_count": null,
   "metadata": {},
   "outputs": [],
   "source": []
  },
  {
   "cell_type": "code",
   "execution_count": null,
   "metadata": {},
   "outputs": [],
   "source": []
  }
 ],
 "metadata": {
  "kernelspec": {
   "display_name": "Python 3",
   "language": "python",
   "name": "python3"
  },
  "language_info": {
   "codemirror_mode": {
    "name": "ipython",
    "version": 3
   },
   "file_extension": ".py",
   "mimetype": "text/x-python",
   "name": "python",
   "nbconvert_exporter": "python",
   "pygments_lexer": "ipython3",
   "version": "3.7.4"
  }
 },
 "nbformat": 4,
 "nbformat_minor": 4
}
